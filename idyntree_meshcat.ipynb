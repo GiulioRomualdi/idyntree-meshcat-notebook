{
 "cells": [
  {
   "cell_type": "markdown",
   "metadata": {
    "id": "AWmrhTt0j3J_"
   },
   "source": [
    "# iDynTree MeshcatVisualizer a simple example [![Open In Colab](https://colab.research.google.com/assets/colab-badge.svg)](https://colab.research.google.com/github/GiulioRomualdi/idyntree-meshcat-notebook/blob/main/idyntree_meshcat.ipynb)\n",
    "\n",
    "The `idyntree.visualize.MeshcatVisualizer` is a simple class that permits to display `iDynTree::Model` instances  in Python, for example loaded from URDF models, directly  as part of a Jupyter Notebook, thanks to the use of the [MeshCat](https://github.com/rdeits/meshcat-python), a WebGL-based 3D visualizer for Python. The API of this class is inspired by [the similar class of Pinocchio](https://gepettoweb.laas.fr/doc/stack-of-tasks/pinocchio/devel/doxygen-html/md_doc_b-examples_display_b-meshcat-viewer.html), but the iDynTree version permit to specify arbitrary joint orders for the model.\n"
   ]
  },
  {
   "cell_type": "markdown",
   "metadata": {
    "id": "MBmxA29zAqbw"
   },
   "source": [
    "# Install some dependencies"
   ]
  },
  {
   "cell_type": "code",
   "execution_count": null,
   "metadata": {
    "id": "qDJYRJ1wygZE"
   },
   "outputs": [],
   "source": [
    "!pip install -q condacolab\n",
    "import condacolab\n",
    "condacolab.install()\n",
    "\n",
    "!mamba install -q idyntree\n",
    "!mamba install -c robotology icub-models"
   ]
  },
  {
   "cell_type": "code",
   "execution_count": null,
   "metadata": {
    "id": "mZdKXGJdjCp7"
   },
   "outputs": [],
   "source": [
    "import numpy as np\n",
    "import os\n",
    "import sys\n",
    "from ipywidgets import interact, interactive, fixed, interact_manual\n",
    "import ipywidgets as widgets\n",
    "import numpy as np\n",
    "from meshcat.servers.zmqserver import start_zmq_server_as_subprocess\n",
    "from idyntree.visualize import MeshcatVisualizer"
   ]
  },
  {
   "cell_type": "markdown",
   "metadata": {
    "id": "Bk0dPfeVAvYN"
   },
   "source": [
    "# Load the robot model"
   ]
  },
  {
   "cell_type": "code",
   "execution_count": null,
   "metadata": {
    "id": "ldVCN1WWA0Q7"
   },
   "outputs": [],
   "source": [
    "icub_dir = os.path.join(\"/usr\",\"local\",\"share\",\"iCub\")\n",
    "share_dir = os.path.join(\"/usr\",\"local\",\"share\")\n",
    "\n",
    "os.environ[\"YARP_DATA_DIRS\"] = icub_dir\n",
    "os.environ[\"ROS_PACKAGE_PATH\"] = share_dir\n",
    "os.environ[\"AMENT_PREFIX_PATH\"] = share_dir\n",
    "\n",
    "def get_model_path(robot_name='iCubGazeboV2_5'):\n",
    "    return os.path.join(icub_dir, 'robots', robot_name, 'model.urdf')"
   ]
  },
  {
   "cell_type": "code",
   "execution_count": null,
   "metadata": {
    "id": "g0u0Pmf9A2o7"
   },
   "outputs": [],
   "source": [
    "model_path = get_model_path()\n",
    "joint_list = [\"torso_pitch\", \"torso_roll\", \"torso_yaw\",\n",
    "              \"l_shoulder_pitch\", \"l_shoulder_roll\", \"l_shoulder_yaw\", \"l_elbow\",\n",
    "              \"r_shoulder_pitch\", \"r_shoulder_roll\", \"r_shoulder_yaw\", \"r_elbow\",\n",
    "              \"l_hip_pitch\", \"l_hip_roll\", \"l_hip_yaw\", \"l_knee\", \"l_ankle_pitch\", \"l_ankle_roll\",\n",
    "              \"r_hip_pitch\", \"r_hip_roll\", \"r_hip_yaw\", \"r_knee\", \"r_ankle_pitch\", \"r_ankle_roll\"]\n",
    "joint_dictionary = {joint: (-0.5, 0.5, 0.01) for joint in joint_list}"
   ]
  },
  {
   "cell_type": "markdown",
   "metadata": {
    "id": "5INUJAAbAYTx"
   },
   "source": [
    "# Instantiate the visualizer"
   ]
  },
  {
   "cell_type": "code",
   "execution_count": null,
   "metadata": {
    "id": "4Cb7fO_ycwyQ"
   },
   "outputs": [],
   "source": [
    "# Start a single meshcat server instance to use for the remainder of this notebook.\n",
    "from meshcat.servers.zmqserver import start_zmq_server_as_subprocess\n",
    "server_args = []\n",
    "if 'google.colab' in sys.modules:\n",
    "  server_args = ['--ngrok_http_tunnel']\n",
    "proc, zmq_url, web_url = start_zmq_server_as_subprocess(server_args=server_args)"
   ]
  },
  {
   "cell_type": "code",
   "execution_count": null,
   "metadata": {
    "id": "8oSvepOswd3v"
   },
   "outputs": [],
   "source": [
    "viz = MeshcatVisualizer(zmq_url=zmq_url)\n",
    "viz.set_model_from_file(model_path, joint_list)\n",
    "viz.load_model(color=[1, 1, 1, 0.8])"
   ]
  },
  {
   "cell_type": "code",
   "execution_count": null,
   "metadata": {
    "id": "i2EiKT12x8-Q"
   },
   "outputs": [],
   "source": [
    "def update_the_model(**joint_values):\n",
    "    R = np.eye(3)\n",
    "    p = np.array([0.0, 0.0, 0.0])\n",
    "    s = np.array(list(joint_values.values()))\n",
    "    viz.display(p, R, s)"
   ]
  },
  {
   "cell_type": "markdown",
   "metadata": {
    "id": "Hef-QTtKBAcF"
   },
   "source": [
    "# Move the robot\n",
    "Please move the sliders to update the joint configuration. Remeber to hopen the visualizer by visiting the provided URL."
   ]
  },
  {
   "cell_type": "code",
   "execution_count": null,
   "metadata": {
    "id": "TnHm5vRczzEr"
   },
   "outputs": [],
   "source": [
    "interact(update_the_model, **joint_dictionary);"
   ]
  }
 ],
 "metadata": {
  "colab": {
   "collapsed_sections": [],
   "name": "idyntree-meshcat.ipynb",
   "provenance": [],
   "toc_visible": true
  },
  "kernelspec": {
   "display_name": "Python 3",
   "language": "python",
   "name": "python3"
  },
  "language_info": {
   "codemirror_mode": {
    "name": "ipython",
    "version": 3
   },
   "file_extension": ".py",
   "mimetype": "text/x-python",
   "name": "python",
   "nbconvert_exporter": "python",
   "pygments_lexer": "ipython3",
   "version": "3.8.10"
  }
 },
 "nbformat": 4,
 "nbformat_minor": 1
}
