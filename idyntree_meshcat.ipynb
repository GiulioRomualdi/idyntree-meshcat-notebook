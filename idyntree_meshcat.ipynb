{
  "nbformat": 4,
  "nbformat_minor": 0,
  "metadata": {
    "colab": {
      "name": "idyntree-meshcat.ipynb",
      "provenance": [],
      "collapsed_sections": [],
      "toc_visible": true
    },
    "kernelspec": {
      "name": "python3",
      "display_name": "Python 3"
    },
    "language_info": {
      "name": "python"
    }
  },
  "cells": [
    {
      "cell_type": "markdown",
      "metadata": {
        "id": "AWmrhTt0j3J_"
      },
      "source": [
        "# iDynTree MeshcatVisualizer a simple example [![Open In Colab](https://colab.research.google.com/assets/colab-badge.svg)](https://github.com/GiulioRomualdi/idyntree-meshcat-notebook/blob/main/idyntree_meshcat.ipynb)\n",
        "\n",
        "\"The `idyntree.visualize.MeshcatVisualizer` is a simple class that permits to display `iDynTree::Model` instances  in Python, for example loaded from URDF models, directly  as part of a Jupyter Notebook, thanks to the use of the [MeshCat](https://github.com/rdeits/meshcat-python), a WebGL-based 3D visualizer for Python. The API of this class is inspired by [the similar class of Pinocchio](https://gepettoweb.laas.fr/doc/stack-of-tasks/pinocchio/devel/doxygen-html/md_doc_b-examples_display_b-meshcat-viewer.html), but the iDynTree version permit to specify arbitrary joint orders for the model.\n"
      ]
    },
    {
      "cell_type": "markdown",
      "metadata": {
        "id": "MBmxA29zAqbw"
      },
      "source": [
        "# Install some dependencies"
      ]
    },
    {
      "cell_type": "code",
      "metadata": {
        "id": "qDJYRJ1wygZE"
      },
      "source": [
        "!pip install -q condacolab\n",
        "import condacolab\n",
        "condacolab.install()\n",
        "\n",
        "!mamba install -q idyntree\n",
        "!mamba install -c robotology icub-models"
      ],
      "execution_count": null,
      "outputs": []
    },
    {
      "cell_type": "code",
      "metadata": {
        "id": "mZdKXGJdjCp7"
      },
      "source": [
        "import numpy as np\n",
        "import os\n",
        "import sys\n",
        "from ipywidgets import interact, interactive, fixed, interact_manual\n",
        "import ipywidgets as widgets\n",
        "import numpy as np\n",
        "from meshcat.servers.zmqserver import start_zmq_server_as_subprocess"
      ],
      "execution_count": null,
      "outputs": []
    },
    {
      "cell_type": "markdown",
      "metadata": {
        "id": "_jddsPpQAPUy"
      },
      "source": [
        "The following class is not required in idyntree 4.2.0"
      ]
    },
    {
      "cell_type": "code",
      "metadata": {
        "id": "w5lJydU1AJPl"
      },
      "source": [
        "import idyntree.bindings as idyn\n",
        "import warnings\n",
        "\n",
        "\n",
        "class MeshcatVisualizer:\n",
        "    \"\"\"\n",
        "    A simple wrapper to the meshcat visualizer. The MeshcatVisualizer class is highly inspired by the Pinocchio version\n",
        "    of the MeshCat visualizer\n",
        "    https://github.com/stack-of-tasks/pinocchio/blob/b134b25f1409f5bf036105b996da2d29c1a66a12/bindings/python/pinocchio/visualize/meshcat_visualizer.py\n",
        "    \"\"\"\n",
        "\n",
        "    def __init__(self, zmq_url=None):\n",
        "        import meshcat\n",
        "        \n",
        "        if zmq_url is not None:\n",
        "            print(\"Connecting to meshcat-server at zmq_url=\" + zmq_url + \".\")\n",
        "          \n",
        "        self.viewer = meshcat.Visualizer(zmq_url=zmq_url)\n",
        "        self.traversal = dict()\n",
        "        self.model = dict()\n",
        "        self.link_pos = dict()\n",
        "\n",
        "    def __is_mesh(self, geometry_object) -> bool:\n",
        "\n",
        "        mesh_path = geometry_object.asExternalMesh().getFileLocationOnLocalFileSystem()\n",
        "\n",
        "        # Check whether the geometry object contains a Mesh supported by MeshCat\n",
        "        if mesh_path == \"\":\n",
        "            return False\n",
        "\n",
        "        _, file_extension = os.path.splitext(mesh_path)\n",
        "        if file_extension.lower() in [\".dae\", \".obj\", \".stl\"]:\n",
        "            return True\n",
        "\n",
        "        return False\n",
        "\n",
        "    def __load_mesh(self, geometry_object):\n",
        "\n",
        "        import meshcat\n",
        "\n",
        "        mesh_path = geometry_object.asExternalMesh().getFileLocationOnLocalFileSystem()\n",
        "\n",
        "        # try to import the mesh\n",
        "        if mesh_path == \"\":\n",
        "            return None\n",
        "\n",
        "        _, file_extension = os.path.splitext(mesh_path)\n",
        "\n",
        "        basename = os.path.basename(mesh_path)\n",
        "        file_name = os.path.splitext(basename)[0]\n",
        "\n",
        "        geometry_object.asExternalMesh().setName(file_name)\n",
        "\n",
        "        if file_extension.lower() == \".dae\":\n",
        "            obj = meshcat.geometry.DaeMeshGeometry.from_file(mesh_path)\n",
        "        elif file_extension.lower() == \".obj\":\n",
        "            obj = meshcat.geometry.ObjMeshGeometry.from_file(mesh_path)\n",
        "        elif file_extension.lower() == \".stl\":\n",
        "            obj = meshcat.geometry.StlMeshGeometry.from_file(mesh_path)\n",
        "        else:\n",
        "            msg = \"The following mesh cannot be loaded: {}.\".format(mesh_path)\n",
        "            warnings.warn(msg, category=UserWarning, stacklevel=2)\n",
        "            obj = None\n",
        "\n",
        "        return obj\n",
        "\n",
        "    def __apply_transform(self, world_H_frame, solid_shape, viewer_name):\n",
        "        world_H_geometry = (world_H_frame * solid_shape.getLink_H_geometry()).asHomogeneousTransform().toNumPy()\n",
        "        scale = list(solid_shape.asExternalMesh().getScale().toNumPy().flatten())\n",
        "        extended_scale = np.diag(np.concatenate((scale, [1.0])))\n",
        "        world_H_geometry_scaled = np.array(world_H_geometry).dot(extended_scale)\n",
        "\n",
        "        # Update viewer configuration.\n",
        "        self.viewer[viewer_name].set_transform(world_H_geometry_scaled)\n",
        "\n",
        "    def __model_exists(self, model_name):\n",
        "\n",
        "        if model_name in self.model.keys():\n",
        "            return True\n",
        "\n",
        "        if model_name in self.traversal.keys():\n",
        "            return True\n",
        "\n",
        "        if model_name in self.link_pos.keys():\n",
        "            return True\n",
        "\n",
        "        return False\n",
        "\n",
        "    def __add_model_geometry_to_viewer(self, model, model_geometry: idyn.ModelSolidShapes,\n",
        "                                       model_name, color):\n",
        "        import meshcat\n",
        "\n",
        "        if not self.__model_exists(model_name):\n",
        "            msg = \"The model named: \" +  model_name + \" does not exist.\"\n",
        "            warnings.warn(msg, category=UserWarning, stacklevel=2)\n",
        "            return\n",
        "\n",
        "        # Solve forward kinematics\n",
        "        joint_pos = idyn.VectorDynSize(self.model[model_name].getNrOfJoints())\n",
        "        joint_pos.zero()\n",
        "        idyn.ForwardPositionKinematics(self.model[model_name], self.traversal[model_name],\n",
        "                                       idyn.Transform.Identity(), joint_pos,\n",
        "                                       self.link_pos[model_name])\n",
        "\n",
        "        link_solid_shapes = model_geometry.getLinkSolidShapes()\n",
        "\n",
        "        for link_index in range(0, self.model[model_name].getNrOfLinks()):\n",
        "\n",
        "            world_H_frame = self.link_pos[model_name](link_index)\n",
        "            link_name = self.model[model_name].getLinkName(link_index)\n",
        "\n",
        "            is_mesh = False\n",
        "            for geom in range(0, len(link_solid_shapes[link_index])):\n",
        "                solid_shape = model_geometry.getLinkSolidShapes()[link_index][geom]\n",
        "                if self.__is_mesh(solid_shape):\n",
        "                    obj = self.__load_mesh(solid_shape)\n",
        "                    is_mesh = True\n",
        "                else:\n",
        "                    msg = \"The geometry object named \" \\\n",
        "                          + solid_shape.asExternalMesh().getName() \\\n",
        "                          + \" is not supported by iDynTree/MeshCat for visualization.\"\n",
        "                    warnings.warn(msg, category=UserWarning, stacklevel=2)\n",
        "                    continue\n",
        "\n",
        "                if obj is None:\n",
        "                    msg = \"The geometry object named \" + solid_shape.asExternalMesh().getName() + \" is not valid.\"\n",
        "                    warnings.warn(msg, category=UserWarning, stacklevel=2)\n",
        "                    continue\n",
        "\n",
        "                viewer_name = model_name + \"/\" + link_name + \"/\" + solid_shape.asExternalMesh().getName()\n",
        "\n",
        "                if isinstance(obj, meshcat.geometry.Object):\n",
        "                    self.viewer[viewer_name].set_object(obj)\n",
        "                elif isinstance(obj, meshcat.geometry.Geometry):\n",
        "                    material = meshcat.geometry.MeshPhongMaterial()\n",
        "                    # Set material color from URDF, converting for triplet of doubles to a single int.\n",
        "                    if color is None:\n",
        "                        mesh_color = solid_shape.getMaterial().color()\n",
        "                    else:\n",
        "                        mesh_color = color\n",
        "\n",
        "                    material.color = int(mesh_color[0] * 255) * 256 ** 2 + \\\n",
        "                                     int(mesh_color[1] * 255) * 256 + \\\n",
        "                                     int(mesh_color[2] * 255)\n",
        "\n",
        "                    # Add transparency, if needed.\n",
        "                    if float(mesh_color[3]) != 1.0:\n",
        "                        material.transparent = True\n",
        "                        material.opacity = float(mesh_color[3])\n",
        "\n",
        "                    self.viewer[viewer_name].set_object(obj, material)\n",
        "\n",
        "                    if is_mesh:\n",
        "                        self.__apply_transform(world_H_frame, solid_shape, viewer_name)\n",
        "\n",
        "    def display(self, base_position, base_rotation, joint_value, model_name='iDynTree'):\n",
        "        \"\"\"Display the robot at given configuration.\"\"\"\n",
        "\n",
        "        if not self.__model_exists(model_name):\n",
        "            msg = \"The model named: \" +  model_name + \" does not exist.\"\n",
        "            warnings.warn(msg, category=UserWarning, stacklevel=2)\n",
        "            return\n",
        "\n",
        "        base_rotation_idyn = idyn.Rotation()\n",
        "        base_position_idyn = idyn.Position()\n",
        "        base_pose_idyn = idyn.Transform()\n",
        "\n",
        "        for i in range(0, 3):\n",
        "            base_position_idyn.setVal(i, base_position[i])\n",
        "            for j in range(0, 3):\n",
        "                base_rotation_idyn.setVal(i, j, base_rotation[i, j])\n",
        "\n",
        "        base_pose_idyn.setRotation(base_rotation_idyn)\n",
        "        base_pose_idyn.setPosition(base_position_idyn)\n",
        "\n",
        "        if len(joint_value) != self.model[model_name].getNrOfJoints():\n",
        "            msg = \"The size of the joint_values is different from the model DoFs\"\n",
        "            warnings.warn(msg, category=UserWarning, stacklevel=2)\n",
        "            return\n",
        "\n",
        "        joint_pos_idyn = idyn.VectorDynSize(self.model[model_name].getNrOfJoints())\n",
        "        for i in range(0, self.model[model_name].getNrOfJoints()):\n",
        "            joint_pos_idyn.setVal(i, joint_value[i])\n",
        "\n",
        "        # Solve forward kinematics\n",
        "        idyn.ForwardPositionKinematics(self.model[model_name], self.traversal[model_name], base_pose_idyn,\n",
        "                                       joint_pos_idyn, self.link_pos[model_name])\n",
        "\n",
        "        # Update the visual shapes\n",
        "        model_geometry = self.model[model_name].visualSolidShapes()\n",
        "        link_solid_shapes = model_geometry.getLinkSolidShapes()\n",
        "\n",
        "        for link_index in range(0, self.model[model_name].getNrOfLinks()):\n",
        "\n",
        "            link_name = self.model[model_name].getLinkName(link_index)\n",
        "            for geom in range(0, len(link_solid_shapes[link_index])):\n",
        "                solid_shape = model_geometry.getLinkSolidShapes()[link_index][geom]\n",
        "                if self.__is_mesh(solid_shape):\n",
        "                    viewer_name = model_name + \"/\" + link_name + \"/\" + solid_shape.asExternalMesh().getName()\n",
        "                    self.__apply_transform(self.link_pos[model_name](link_index), solid_shape, viewer_name)\n",
        "\n",
        "    def open(self):\n",
        "        self.viewer.open()\n",
        "\n",
        "    def jupyter_cell(self):\n",
        "        return self.viewer.jupyter_cell()\n",
        "\n",
        "    def set_model_from_file(self, model_path: str, considered_joints=None, model_name='iDynTree'):\n",
        "\n",
        "        if self.__model_exists(model_name):\n",
        "            msg = \"The model named: \" +  model_name + \" already exists.\"\n",
        "            warnings.warn(msg, category=UserWarning, stacklevel=2)\n",
        "            return\n",
        "\n",
        "\n",
        "        model_loader = idyn.ModelLoader()\n",
        "        if considered_joints is None:\n",
        "            ok = model_loader.loadModelFromFile(model_path)\n",
        "        else:\n",
        "            considered_joints_idyn = idyn.StringVector()\n",
        "            for joint in considered_joints:\n",
        "                considered_joints_idyn.push_back(joint)\n",
        "\n",
        "            ok = model_loader.loadReducedModelFromFile(model_path, considered_joints_idyn)\n",
        "\n",
        "        if not ok:\n",
        "            msg = \"Unable to load the model named: \" + model_name + \" from the file: \" + model_path + \".\"\n",
        "            warnings.warn(msg, category=UserWarning, stacklevel=2)\n",
        "            return\n",
        "\n",
        "        self.model[model_name] = model_loader.model().copy()\n",
        "        self.traversal[model_name] = idyn.Traversal()\n",
        "        self.link_pos[model_name] = idyn.LinkPositions()\n",
        "\n",
        "        self.model[model_name].computeFullTreeTraversal(self.traversal[model_name])\n",
        "        self.link_pos[model_name].resize(self.model[model_name])\n",
        "\n",
        "    def set_model(self, model: idyn.Model, model_name='iDynTree'):\n",
        "\n",
        "        if self.__model_exists(model_name):\n",
        "            msg = \"The model named: \" + model_name + \" already exists.\"\n",
        "            warnings.warn(msg, category=UserWarning, stacklevel=2)\n",
        "            return\n",
        "\n",
        "        self.model[model_name] = model.copy()\n",
        "        self.traversal[model_name] = idyn.Traversal()\n",
        "        self.link_pos[model_name] = idyn.LinkPositions()\n",
        "\n",
        "        self.model[model_name].computeFullTreeTraversal(self.traversal[model_name])\n",
        "        self.link_pos[model_name].resize(self.model[model_name])\n",
        "\n",
        "    def load_model(self, model_name='iDynTree', color=None):\n",
        "        self.__add_model_geometry_to_viewer(self.model,\n",
        "                                            self.model[model_name].visualSolidShapes(),\n",
        "                                            model_name,\n",
        "                                            color)"
      ],
      "execution_count": null,
      "outputs": []
    },
    {
      "cell_type": "markdown",
      "metadata": {
        "id": "Bk0dPfeVAvYN"
      },
      "source": [
        "# Load the robot model"
      ]
    },
    {
      "cell_type": "code",
      "metadata": {
        "id": "ldVCN1WWA0Q7"
      },
      "source": [
        "icub_dir = os.path.join(\"/usr\",\"local\",\"share\",\"iCub\")\n",
        "share_dir = os.path.join(\"/usr\",\"local\",\"share\")\n",
        "\n",
        "os.environ[\"YARP_DATA_DIRS\"] = icub_dir\n",
        "os.environ[\"ROS_PACKAGE_PATH\"] = share_dir\n",
        "os.environ[\"AMENT_PREFIX_PATH\"] = share_dir\n",
        "\n",
        "def get_model_path(robot_name='iCubGazeboV2_5'):\n",
        "    return os.path.join(icub_dir, 'robots', robot_name, 'model.urdf')"
      ],
      "execution_count": null,
      "outputs": []
    },
    {
      "cell_type": "code",
      "metadata": {
        "id": "g0u0Pmf9A2o7"
      },
      "source": [
        "model_path = get_model_path()\n",
        "joint_list = [\"torso_pitch\", \"torso_roll\", \"torso_yaw\",\n",
        "              \"l_shoulder_pitch\", \"l_shoulder_roll\", \"l_shoulder_yaw\", \"l_elbow\",\n",
        "              \"r_shoulder_pitch\", \"r_shoulder_roll\", \"r_shoulder_yaw\", \"r_elbow\",\n",
        "              \"l_hip_pitch\", \"l_hip_roll\", \"l_hip_yaw\", \"l_knee\", \"l_ankle_pitch\", \"l_ankle_roll\",\n",
        "              \"r_hip_pitch\", \"r_hip_roll\", \"r_hip_yaw\", \"r_knee\", \"r_ankle_pitch\", \"r_ankle_roll\"]\n",
        "joint_dictionary = {joint: (-0.5, 0.5, 0.01) for joint in joint_list}"
      ],
      "execution_count": null,
      "outputs": []
    },
    {
      "cell_type": "markdown",
      "metadata": {
        "id": "5INUJAAbAYTx"
      },
      "source": [
        "# Instantiate the visualizer"
      ]
    },
    {
      "cell_type": "code",
      "metadata": {
        "id": "4Cb7fO_ycwyQ"
      },
      "source": [
        "# Start a single meshcat server instance to use for the remainder of this notebook.\n",
        "from meshcat.servers.zmqserver import start_zmq_server_as_subprocess\n",
        "server_args = []\n",
        "if 'google.colab' in sys.modules:\n",
        "  server_args = ['--ngrok_http_tunnel']\n",
        "proc, zmq_url, web_url = start_zmq_server_as_subprocess(server_args=server_args)"
      ],
      "execution_count": null,
      "outputs": []
    },
    {
      "cell_type": "code",
      "metadata": {
        "id": "8oSvepOswd3v"
      },
      "source": [
        "viz = MeshcatVisualizer(zmq_url=zmq_url)\n",
        "viz.set_model_from_file(model_path, joint_list)\n",
        "viz.load_model(color=[1, 1, 1, 0.8])"
      ],
      "execution_count": null,
      "outputs": []
    },
    {
      "cell_type": "code",
      "metadata": {
        "id": "i2EiKT12x8-Q"
      },
      "source": [
        "def update_the_model(**joint_values):\n",
        "    R = np.eye(3)\n",
        "    p = np.array([0.0, 0.0, 0.0])\n",
        "    s = np.array(list(joint_values.values()))\n",
        "    viz.display(p, R, s)"
      ],
      "execution_count": null,
      "outputs": []
    },
    {
      "cell_type": "markdown",
      "metadata": {
        "id": "Hef-QTtKBAcF"
      },
      "source": [
        "# Move the robot\n",
        "Please move the sliders to update the joint configuration. Remeber to hopen the visualizer by visiting the provided URL."
      ]
    },
    {
      "cell_type": "code",
      "metadata": {
        "id": "TnHm5vRczzEr"
      },
      "source": [
        "interact(update_the_model, **joint_dictionary);\n"
      ],
      "execution_count": null,
      "outputs": []
    }
  ]
}